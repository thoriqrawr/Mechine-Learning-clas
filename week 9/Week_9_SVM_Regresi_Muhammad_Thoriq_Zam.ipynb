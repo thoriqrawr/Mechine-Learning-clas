{
  "cells": [
    {
      "cell_type": "markdown",
      "metadata": {
        "id": "WRkv04MY5bKi"
      },
      "source": [
        "# **Regresi SVM**"
      ]
    },
    {
      "cell_type": "markdown",
      "metadata": {
        "id": "dGIwGq-o5gmu"
      },
      "source": [
        "### Langkah 1: Menghubungkan Google Drive ke Colab"
      ]
    },
    {
      "cell_type": "code",
      "execution_count": 1,
      "metadata": {
        "colab": {
          "base_uri": "https://localhost:8080/"
        },
        "id": "uQn8rnqX4_PL",
        "outputId": "70948da7-abc7-4624-a1ce-9b7752997402"
      },
      "outputs": [
        {
          "output_type": "stream",
          "name": "stdout",
          "text": [
            "Mounted at /content/drive\n"
          ]
        }
      ],
      "source": [
        "from google.colab import drive\n",
        "# Mount Google Drive untuk mengakses file\n",
        "# Jalankan sel ini untuk menghubungkan ke Google Drive Anda\n",
        "drive.mount('/content/drive')"
      ]
    },
    {
      "cell_type": "markdown",
      "metadata": {
        "id": "irfx4Faf5kem"
      },
      "source": [
        "### Langkah 2: Membaca file CSV dari Google Drive ke DataFrame"
      ]
    },
    {
      "cell_type": "code",
      "execution_count": 2,
      "metadata": {
        "colab": {
          "base_uri": "https://localhost:8080/",
          "height": 206
        },
        "id": "0blIImuF5l30",
        "outputId": "207c258d-cca1-4975-aaf0-ddcc275bfefc"
      },
      "outputs": [
        {
          "output_type": "execute_result",
          "data": {
            "text/plain": [
              "      x1     x2   x3     x4   x5      x6     x7   x8        x9    x10  \\\n",
              "0  540.0    0.0  0.0  162.0  2.5  1040.0  676.0   28  0.300000  540.0   \n",
              "1  540.0    0.0  0.0  162.0  2.5  1055.0  676.0   28  0.300000  540.0   \n",
              "2  332.5  142.5  0.0  228.0  0.0   932.0  594.0  270  0.685714  475.0   \n",
              "3  332.5  142.5  0.0  228.0  0.0   932.0  594.0  365  0.685714  475.0   \n",
              "4  198.6  132.4  0.0  192.0  0.0   978.4  825.5  360  0.966767  331.0   \n",
              "\n",
              "        x11  x12       x13  x14  x15  target_feature  \n",
              "0  1.538462    1  0.350044  YEs   NO           79.99  \n",
              "1  1.560651    1  0.452416  yES  nOO           61.89  \n",
              "2  1.569024    0  6.704743  yEs   NO           40.27  \n",
              "3  1.569024    0  8.891596  yes  NOO           41.05  \n",
              "4  1.185221    0  8.126411  YeS   no           44.30  "
            ],
            "text/html": [
              "\n",
              "  <div id=\"df-7e191435-6f59-40e7-9a00-c3c24e4aa798\" class=\"colab-df-container\">\n",
              "    <div>\n",
              "<style scoped>\n",
              "    .dataframe tbody tr th:only-of-type {\n",
              "        vertical-align: middle;\n",
              "    }\n",
              "\n",
              "    .dataframe tbody tr th {\n",
              "        vertical-align: top;\n",
              "    }\n",
              "\n",
              "    .dataframe thead th {\n",
              "        text-align: right;\n",
              "    }\n",
              "</style>\n",
              "<table border=\"1\" class=\"dataframe\">\n",
              "  <thead>\n",
              "    <tr style=\"text-align: right;\">\n",
              "      <th></th>\n",
              "      <th>x1</th>\n",
              "      <th>x2</th>\n",
              "      <th>x3</th>\n",
              "      <th>x4</th>\n",
              "      <th>x5</th>\n",
              "      <th>x6</th>\n",
              "      <th>x7</th>\n",
              "      <th>x8</th>\n",
              "      <th>x9</th>\n",
              "      <th>x10</th>\n",
              "      <th>x11</th>\n",
              "      <th>x12</th>\n",
              "      <th>x13</th>\n",
              "      <th>x14</th>\n",
              "      <th>x15</th>\n",
              "      <th>target_feature</th>\n",
              "    </tr>\n",
              "  </thead>\n",
              "  <tbody>\n",
              "    <tr>\n",
              "      <th>0</th>\n",
              "      <td>540.0</td>\n",
              "      <td>0.0</td>\n",
              "      <td>0.0</td>\n",
              "      <td>162.0</td>\n",
              "      <td>2.5</td>\n",
              "      <td>1040.0</td>\n",
              "      <td>676.0</td>\n",
              "      <td>28</td>\n",
              "      <td>0.300000</td>\n",
              "      <td>540.0</td>\n",
              "      <td>1.538462</td>\n",
              "      <td>1</td>\n",
              "      <td>0.350044</td>\n",
              "      <td>YEs</td>\n",
              "      <td>NO</td>\n",
              "      <td>79.99</td>\n",
              "    </tr>\n",
              "    <tr>\n",
              "      <th>1</th>\n",
              "      <td>540.0</td>\n",
              "      <td>0.0</td>\n",
              "      <td>0.0</td>\n",
              "      <td>162.0</td>\n",
              "      <td>2.5</td>\n",
              "      <td>1055.0</td>\n",
              "      <td>676.0</td>\n",
              "      <td>28</td>\n",
              "      <td>0.300000</td>\n",
              "      <td>540.0</td>\n",
              "      <td>1.560651</td>\n",
              "      <td>1</td>\n",
              "      <td>0.452416</td>\n",
              "      <td>yES</td>\n",
              "      <td>nOO</td>\n",
              "      <td>61.89</td>\n",
              "    </tr>\n",
              "    <tr>\n",
              "      <th>2</th>\n",
              "      <td>332.5</td>\n",
              "      <td>142.5</td>\n",
              "      <td>0.0</td>\n",
              "      <td>228.0</td>\n",
              "      <td>0.0</td>\n",
              "      <td>932.0</td>\n",
              "      <td>594.0</td>\n",
              "      <td>270</td>\n",
              "      <td>0.685714</td>\n",
              "      <td>475.0</td>\n",
              "      <td>1.569024</td>\n",
              "      <td>0</td>\n",
              "      <td>6.704743</td>\n",
              "      <td>yEs</td>\n",
              "      <td>NO</td>\n",
              "      <td>40.27</td>\n",
              "    </tr>\n",
              "    <tr>\n",
              "      <th>3</th>\n",
              "      <td>332.5</td>\n",
              "      <td>142.5</td>\n",
              "      <td>0.0</td>\n",
              "      <td>228.0</td>\n",
              "      <td>0.0</td>\n",
              "      <td>932.0</td>\n",
              "      <td>594.0</td>\n",
              "      <td>365</td>\n",
              "      <td>0.685714</td>\n",
              "      <td>475.0</td>\n",
              "      <td>1.569024</td>\n",
              "      <td>0</td>\n",
              "      <td>8.891596</td>\n",
              "      <td>yes</td>\n",
              "      <td>NOO</td>\n",
              "      <td>41.05</td>\n",
              "    </tr>\n",
              "    <tr>\n",
              "      <th>4</th>\n",
              "      <td>198.6</td>\n",
              "      <td>132.4</td>\n",
              "      <td>0.0</td>\n",
              "      <td>192.0</td>\n",
              "      <td>0.0</td>\n",
              "      <td>978.4</td>\n",
              "      <td>825.5</td>\n",
              "      <td>360</td>\n",
              "      <td>0.966767</td>\n",
              "      <td>331.0</td>\n",
              "      <td>1.185221</td>\n",
              "      <td>0</td>\n",
              "      <td>8.126411</td>\n",
              "      <td>YeS</td>\n",
              "      <td>no</td>\n",
              "      <td>44.30</td>\n",
              "    </tr>\n",
              "  </tbody>\n",
              "</table>\n",
              "</div>\n",
              "    <div class=\"colab-df-buttons\">\n",
              "\n",
              "  <div class=\"colab-df-container\">\n",
              "    <button class=\"colab-df-convert\" onclick=\"convertToInteractive('df-7e191435-6f59-40e7-9a00-c3c24e4aa798')\"\n",
              "            title=\"Convert this dataframe to an interactive table.\"\n",
              "            style=\"display:none;\">\n",
              "\n",
              "  <svg xmlns=\"http://www.w3.org/2000/svg\" height=\"24px\" viewBox=\"0 -960 960 960\">\n",
              "    <path d=\"M120-120v-720h720v720H120Zm60-500h600v-160H180v160Zm220 220h160v-160H400v160Zm0 220h160v-160H400v160ZM180-400h160v-160H180v160Zm440 0h160v-160H620v160ZM180-180h160v-160H180v160Zm440 0h160v-160H620v160Z\"/>\n",
              "  </svg>\n",
              "    </button>\n",
              "\n",
              "  <style>\n",
              "    .colab-df-container {\n",
              "      display:flex;\n",
              "      gap: 12px;\n",
              "    }\n",
              "\n",
              "    .colab-df-convert {\n",
              "      background-color: #E8F0FE;\n",
              "      border: none;\n",
              "      border-radius: 50%;\n",
              "      cursor: pointer;\n",
              "      display: none;\n",
              "      fill: #1967D2;\n",
              "      height: 32px;\n",
              "      padding: 0 0 0 0;\n",
              "      width: 32px;\n",
              "    }\n",
              "\n",
              "    .colab-df-convert:hover {\n",
              "      background-color: #E2EBFA;\n",
              "      box-shadow: 0px 1px 2px rgba(60, 64, 67, 0.3), 0px 1px 3px 1px rgba(60, 64, 67, 0.15);\n",
              "      fill: #174EA6;\n",
              "    }\n",
              "\n",
              "    .colab-df-buttons div {\n",
              "      margin-bottom: 4px;\n",
              "    }\n",
              "\n",
              "    [theme=dark] .colab-df-convert {\n",
              "      background-color: #3B4455;\n",
              "      fill: #D2E3FC;\n",
              "    }\n",
              "\n",
              "    [theme=dark] .colab-df-convert:hover {\n",
              "      background-color: #434B5C;\n",
              "      box-shadow: 0px 1px 3px 1px rgba(0, 0, 0, 0.15);\n",
              "      filter: drop-shadow(0px 1px 2px rgba(0, 0, 0, 0.3));\n",
              "      fill: #FFFFFF;\n",
              "    }\n",
              "  </style>\n",
              "\n",
              "    <script>\n",
              "      const buttonEl =\n",
              "        document.querySelector('#df-7e191435-6f59-40e7-9a00-c3c24e4aa798 button.colab-df-convert');\n",
              "      buttonEl.style.display =\n",
              "        google.colab.kernel.accessAllowed ? 'block' : 'none';\n",
              "\n",
              "      async function convertToInteractive(key) {\n",
              "        const element = document.querySelector('#df-7e191435-6f59-40e7-9a00-c3c24e4aa798');\n",
              "        const dataTable =\n",
              "          await google.colab.kernel.invokeFunction('convertToInteractive',\n",
              "                                                    [key], {});\n",
              "        if (!dataTable) return;\n",
              "\n",
              "        const docLinkHtml = 'Like what you see? Visit the ' +\n",
              "          '<a target=\"_blank\" href=https://colab.research.google.com/notebooks/data_table.ipynb>data table notebook</a>'\n",
              "          + ' to learn more about interactive tables.';\n",
              "        element.innerHTML = '';\n",
              "        dataTable['output_type'] = 'display_data';\n",
              "        await google.colab.output.renderOutput(dataTable, element);\n",
              "        const docLink = document.createElement('div');\n",
              "        docLink.innerHTML = docLinkHtml;\n",
              "        element.appendChild(docLink);\n",
              "      }\n",
              "    </script>\n",
              "  </div>\n",
              "\n",
              "\n",
              "<div id=\"df-1fdfe582-c9e0-45f5-a6c0-ef7ce34e3014\">\n",
              "  <button class=\"colab-df-quickchart\" onclick=\"quickchart('df-1fdfe582-c9e0-45f5-a6c0-ef7ce34e3014')\"\n",
              "            title=\"Suggest charts\"\n",
              "            style=\"display:none;\">\n",
              "\n",
              "<svg xmlns=\"http://www.w3.org/2000/svg\" height=\"24px\"viewBox=\"0 0 24 24\"\n",
              "     width=\"24px\">\n",
              "    <g>\n",
              "        <path d=\"M19 3H5c-1.1 0-2 .9-2 2v14c0 1.1.9 2 2 2h14c1.1 0 2-.9 2-2V5c0-1.1-.9-2-2-2zM9 17H7v-7h2v7zm4 0h-2V7h2v10zm4 0h-2v-4h2v4z\"/>\n",
              "    </g>\n",
              "</svg>\n",
              "  </button>\n",
              "\n",
              "<style>\n",
              "  .colab-df-quickchart {\n",
              "      --bg-color: #E8F0FE;\n",
              "      --fill-color: #1967D2;\n",
              "      --hover-bg-color: #E2EBFA;\n",
              "      --hover-fill-color: #174EA6;\n",
              "      --disabled-fill-color: #AAA;\n",
              "      --disabled-bg-color: #DDD;\n",
              "  }\n",
              "\n",
              "  [theme=dark] .colab-df-quickchart {\n",
              "      --bg-color: #3B4455;\n",
              "      --fill-color: #D2E3FC;\n",
              "      --hover-bg-color: #434B5C;\n",
              "      --hover-fill-color: #FFFFFF;\n",
              "      --disabled-bg-color: #3B4455;\n",
              "      --disabled-fill-color: #666;\n",
              "  }\n",
              "\n",
              "  .colab-df-quickchart {\n",
              "    background-color: var(--bg-color);\n",
              "    border: none;\n",
              "    border-radius: 50%;\n",
              "    cursor: pointer;\n",
              "    display: none;\n",
              "    fill: var(--fill-color);\n",
              "    height: 32px;\n",
              "    padding: 0;\n",
              "    width: 32px;\n",
              "  }\n",
              "\n",
              "  .colab-df-quickchart:hover {\n",
              "    background-color: var(--hover-bg-color);\n",
              "    box-shadow: 0 1px 2px rgba(60, 64, 67, 0.3), 0 1px 3px 1px rgba(60, 64, 67, 0.15);\n",
              "    fill: var(--button-hover-fill-color);\n",
              "  }\n",
              "\n",
              "  .colab-df-quickchart-complete:disabled,\n",
              "  .colab-df-quickchart-complete:disabled:hover {\n",
              "    background-color: var(--disabled-bg-color);\n",
              "    fill: var(--disabled-fill-color);\n",
              "    box-shadow: none;\n",
              "  }\n",
              "\n",
              "  .colab-df-spinner {\n",
              "    border: 2px solid var(--fill-color);\n",
              "    border-color: transparent;\n",
              "    border-bottom-color: var(--fill-color);\n",
              "    animation:\n",
              "      spin 1s steps(1) infinite;\n",
              "  }\n",
              "\n",
              "  @keyframes spin {\n",
              "    0% {\n",
              "      border-color: transparent;\n",
              "      border-bottom-color: var(--fill-color);\n",
              "      border-left-color: var(--fill-color);\n",
              "    }\n",
              "    20% {\n",
              "      border-color: transparent;\n",
              "      border-left-color: var(--fill-color);\n",
              "      border-top-color: var(--fill-color);\n",
              "    }\n",
              "    30% {\n",
              "      border-color: transparent;\n",
              "      border-left-color: var(--fill-color);\n",
              "      border-top-color: var(--fill-color);\n",
              "      border-right-color: var(--fill-color);\n",
              "    }\n",
              "    40% {\n",
              "      border-color: transparent;\n",
              "      border-right-color: var(--fill-color);\n",
              "      border-top-color: var(--fill-color);\n",
              "    }\n",
              "    60% {\n",
              "      border-color: transparent;\n",
              "      border-right-color: var(--fill-color);\n",
              "    }\n",
              "    80% {\n",
              "      border-color: transparent;\n",
              "      border-right-color: var(--fill-color);\n",
              "      border-bottom-color: var(--fill-color);\n",
              "    }\n",
              "    90% {\n",
              "      border-color: transparent;\n",
              "      border-bottom-color: var(--fill-color);\n",
              "    }\n",
              "  }\n",
              "</style>\n",
              "\n",
              "  <script>\n",
              "    async function quickchart(key) {\n",
              "      const quickchartButtonEl =\n",
              "        document.querySelector('#' + key + ' button');\n",
              "      quickchartButtonEl.disabled = true;  // To prevent multiple clicks.\n",
              "      quickchartButtonEl.classList.add('colab-df-spinner');\n",
              "      try {\n",
              "        const charts = await google.colab.kernel.invokeFunction(\n",
              "            'suggestCharts', [key], {});\n",
              "      } catch (error) {\n",
              "        console.error('Error during call to suggestCharts:', error);\n",
              "      }\n",
              "      quickchartButtonEl.classList.remove('colab-df-spinner');\n",
              "      quickchartButtonEl.classList.add('colab-df-quickchart-complete');\n",
              "    }\n",
              "    (() => {\n",
              "      let quickchartButtonEl =\n",
              "        document.querySelector('#df-1fdfe582-c9e0-45f5-a6c0-ef7ce34e3014 button');\n",
              "      quickchartButtonEl.style.display =\n",
              "        google.colab.kernel.accessAllowed ? 'block' : 'none';\n",
              "    })();\n",
              "  </script>\n",
              "</div>\n",
              "\n",
              "    </div>\n",
              "  </div>\n"
            ],
            "application/vnd.google.colaboratory.intrinsic+json": {
              "type": "dataframe",
              "variable_name": "data",
              "summary": "{\n  \"name\": \"data\",\n  \"rows\": 1030,\n  \"fields\": [\n    {\n      \"column\": \"x1\",\n      \"properties\": {\n        \"dtype\": \"number\",\n        \"std\": 104.50636449481543,\n        \"min\": 102.0,\n        \"max\": 540.0,\n        \"num_unique_values\": 278,\n        \"samples\": [\n          337.9,\n          290.2,\n          262.0\n        ],\n        \"semantic_type\": \"\",\n        \"description\": \"\"\n      }\n    },\n    {\n      \"column\": \"x2\",\n      \"properties\": {\n        \"dtype\": \"number\",\n        \"std\": 86.27934174810551,\n        \"min\": 0.0,\n        \"max\": 359.4,\n        \"num_unique_values\": 185,\n        \"samples\": [\n          94.7,\n          119.0,\n          136.3\n        ],\n        \"semantic_type\": \"\",\n        \"description\": \"\"\n      }\n    },\n    {\n      \"column\": \"x3\",\n      \"properties\": {\n        \"dtype\": \"number\",\n        \"std\": 63.99700415268812,\n        \"min\": 0.0,\n        \"max\": 200.1,\n        \"num_unique_values\": 156,\n        \"samples\": [\n          98.0,\n          142.0,\n          195.0\n        ],\n        \"semantic_type\": \"\",\n        \"description\": \"\"\n      }\n    },\n    {\n      \"column\": \"x4\",\n      \"properties\": {\n        \"dtype\": \"number\",\n        \"std\": 21.354218565032525,\n        \"min\": 121.8,\n        \"max\": 247.0,\n        \"num_unique_values\": 195,\n        \"samples\": [\n          195.4,\n          183.8,\n          127.3\n        ],\n        \"semantic_type\": \"\",\n        \"description\": \"\"\n      }\n    },\n    {\n      \"column\": \"x5\",\n      \"properties\": {\n        \"dtype\": \"number\",\n        \"std\": 5.973841392485506,\n        \"min\": 0.0,\n        \"max\": 32.2,\n        \"num_unique_values\": 111,\n        \"samples\": [\n          15.0,\n          28.2,\n          16.5\n        ],\n        \"semantic_type\": \"\",\n        \"description\": \"\"\n      }\n    },\n    {\n      \"column\": \"x6\",\n      \"properties\": {\n        \"dtype\": \"number\",\n        \"std\": 77.75395396672091,\n        \"min\": 801.0,\n        \"max\": 1145.0,\n        \"num_unique_values\": 284,\n        \"samples\": [\n          852.1,\n          913.9,\n          914.0\n        ],\n        \"semantic_type\": \"\",\n        \"description\": \"\"\n      }\n    },\n    {\n      \"column\": \"x7\",\n      \"properties\": {\n        \"dtype\": \"number\",\n        \"std\": 80.17598014240434,\n        \"min\": 594.0,\n        \"max\": 992.6,\n        \"num_unique_values\": 302,\n        \"samples\": [\n          710.0,\n          695.4,\n          769.3\n        ],\n        \"semantic_type\": \"\",\n        \"description\": \"\"\n      }\n    },\n    {\n      \"column\": \"x8\",\n      \"properties\": {\n        \"dtype\": \"number\",\n        \"std\": 63,\n        \"min\": 1,\n        \"max\": 365,\n        \"num_unique_values\": 14,\n        \"samples\": [\n          91,\n          100,\n          28\n        ],\n        \"semantic_type\": \"\",\n        \"description\": \"\"\n      }\n    },\n    {\n      \"column\": \"x9\",\n      \"properties\": {\n        \"dtype\": \"number\",\n        \"std\": 0.3140054949742805,\n        \"min\": 0.266892527762093,\n        \"max\": 1.8823529411764703,\n        \"num_unique_values\": 382,\n        \"samples\": [\n          1.2647058823529411,\n          1.3835616438356164,\n          0.5218579234972678\n        ],\n        \"semantic_type\": \"\",\n        \"description\": \"\"\n      }\n    },\n    {\n      \"column\": \"x10\",\n      \"properties\": {\n        \"dtype\": \"number\",\n        \"std\": 92.78066924598141,\n        \"min\": 200.0,\n        \"max\": 640.0,\n        \"num_unique_values\": 292,\n        \"samples\": [\n          409.4,\n          468.6,\n          374.5\n        ],\n        \"semantic_type\": \"\",\n        \"description\": \"\"\n      }\n    },\n    {\n      \"column\": \"x11\",\n      \"properties\": {\n        \"dtype\": \"number\",\n        \"std\": 0.18566989373105341,\n        \"min\": 0.8584525488615756,\n        \"max\": 1.874876033057851,\n        \"num_unique_values\": 371,\n        \"samples\": [\n          1.2264780461764313,\n          1.3570155334861218,\n          0.9204926001944476\n        ],\n        \"semantic_type\": \"\",\n        \"description\": \"\"\n      }\n    },\n    {\n      \"column\": \"x12\",\n      \"properties\": {\n        \"dtype\": \"number\",\n        \"std\": 0,\n        \"min\": 0,\n        \"max\": 1,\n        \"num_unique_values\": 2,\n        \"samples\": [\n          0,\n          1\n        ],\n        \"semantic_type\": \"\",\n        \"description\": \"\"\n      }\n    },\n    {\n      \"column\": \"x13\",\n      \"properties\": {\n        \"dtype\": \"number\",\n        \"std\": 1.5216896658305348,\n        \"min\": 0.0720461095100864,\n        \"max\": 14.55342902711324,\n        \"num_unique_values\": 903,\n        \"samples\": [\n          0.1041666666666666,\n          0.086281276962899\n        ],\n        \"semantic_type\": \"\",\n        \"description\": \"\"\n      }\n    },\n    {\n      \"column\": \"x14\",\n      \"properties\": {\n        \"dtype\": \"category\",\n        \"num_unique_values\": 8,\n        \"samples\": [\n          \"yES\",\n          \"YES\"\n        ],\n        \"semantic_type\": \"\",\n        \"description\": \"\"\n      }\n    },\n    {\n      \"column\": \"x15\",\n      \"properties\": {\n        \"dtype\": \"category\",\n        \"num_unique_values\": 8,\n        \"samples\": [\n          \"nOO\",\n          \"No\"\n        ],\n        \"semantic_type\": \"\",\n        \"description\": \"\"\n      }\n    },\n    {\n      \"column\": \"target_feature\",\n      \"properties\": {\n        \"dtype\": \"number\",\n        \"std\": 16.705741961912505,\n        \"min\": 2.33,\n        \"max\": 82.6,\n        \"num_unique_values\": 845,\n        \"samples\": [\n          41.68,\n          39.59\n        ],\n        \"semantic_type\": \"\",\n        \"description\": \"\"\n      }\n    }\n  ]\n}"
            }
          },
          "metadata": {},
          "execution_count": 2
        }
      ],
      "source": [
        "import pandas as pd\n",
        "\n",
        "# Path ke file CSV di Google Drive\n",
        "file_path = '/content/drive/MyDrive/week 9/MaterialStrength.csv'\n",
        "\n",
        "# Membaca file CSV ke dalam DataFrame\n",
        "data = pd.read_csv(file_path)\n",
        "\n",
        "# Menampilkan 5 baris pertama untuk memverifikasi data\n",
        "data.head()"
      ]
    },
    {
      "cell_type": "markdown",
      "metadata": {
        "id": "VEFN3klU5ow3"
      },
      "source": [
        "### Tahapan 3: Preparation data dan memilih subset prediktor serta menetapkan variabel target dari DataFrame\n"
      ]
    },
    {
      "cell_type": "code",
      "execution_count": 3,
      "metadata": {
        "colab": {
          "base_uri": "https://localhost:8080/"
        },
        "id": "VvY6HkTr5pb1",
        "outputId": "a2f88477-c120-4800-bd4e-61bedd95b380"
      },
      "outputs": [
        {
          "output_type": "stream",
          "name": "stderr",
          "text": [
            "<ipython-input-3-1119e44cb802>:23: SettingWithCopyWarning: \n",
            "A value is trying to be set on a copy of a slice from a DataFrame.\n",
            "Try using .loc[row_indexer,col_indexer] = value instead\n",
            "\n",
            "See the caveats in the documentation: https://pandas.pydata.org/pandas-docs/stable/user_guide/indexing.html#returning-a-view-versus-a-copy\n",
            "  X[numerical_features] = scaler.fit_transform(X[numerical_features])\n"
          ]
        }
      ],
      "source": [
        "from sklearn.preprocessing import StandardScaler, LabelEncoder\n",
        "from sklearn.model_selection import train_test_split\n",
        "\n",
        "# Identifikasi prediktor dan target setelah analisis dataset\n",
        "categorical_features = ['x14', 'x15']\n",
        "numerical_features = ['x1', 'x2', 'x3', 'x4', 'x5', 'x6', 'x7', 'x8', 'x9', 'x10', 'x11', 'x12', 'x13']\n",
        "\n",
        "# Encode kolom kategorikal\n",
        "encoder = LabelEncoder()\n",
        "for col in categorical_features:\n",
        "    data[col] = encoder.fit_transform(data[col])\n",
        "\n",
        "# Gabungkan fitur kategorikal dan numerik\n",
        "predictors = categorical_features + numerical_features\n",
        "X = data[predictors]\n",
        "\n",
        "# Tetapkan kolom target sebagai variabel target\n",
        "target = 'target_feature'\n",
        "y = data[target]\n",
        "\n",
        "# Standarisasi data numerik\n",
        "scaler = StandardScaler()\n",
        "X[numerical_features] = scaler.fit_transform(X[numerical_features])"
      ]
    },
    {
      "cell_type": "markdown",
      "metadata": {
        "id": "I2IC8OPL5sOr"
      },
      "source": [
        "### Tahapan 4: Membagi data menjadi pelatihan dan pengujian\n"
      ]
    },
    {
      "cell_type": "code",
      "execution_count": 4,
      "metadata": {
        "id": "tOFKiOdu5tfI"
      },
      "outputs": [],
      "source": [
        "X_train, test_features, y_train, test_targets = train_test_split(X, y, test_size=0.2, random_state=42)"
      ]
    },
    {
      "cell_type": "markdown",
      "metadata": {
        "id": "TgOl2zef5vjw"
      },
      "source": [
        "### Tahapan 5: Melatih model menggunakan SVM Regression dan mengevaluasi hasilnya\n"
      ]
    },
    {
      "cell_type": "code",
      "execution_count": 5,
      "metadata": {
        "colab": {
          "base_uri": "https://localhost:8080/"
        },
        "id": "QidtLgWT5w9E",
        "outputId": "19ddc2ce-818a-4f9c-e3ab-bd930b95b40b"
      },
      "outputs": [
        {
          "output_type": "stream",
          "name": "stdout",
          "text": [
            "Mean Absolute Error (MAE): 8.42440204724871\n",
            "Mean Squared Error (MSE): 106.2177342423424\n",
            "Root Mean Squared Error (RMSE): 10.306198826063001\n",
            "R-squared (R²): 0.5877871219116948\n"
          ]
        }
      ],
      "source": [
        "from sklearn.svm import SVR\n",
        "from sklearn.metrics import mean_absolute_error, mean_squared_error, r2_score\n",
        "import numpy as np\n",
        "\n",
        "# Membuat model SVM Regressor\n",
        "svm_model = SVR()\n",
        "\n",
        "# Melatih model\n",
        "svm_model.fit(X_train, y_train)\n",
        "\n",
        "# Melakukan prediksi\n",
        "y_pred = svm_model.predict(test_features)\n",
        "\n",
        "# Evaluasi hasil\n",
        "mae = mean_absolute_error(test_targets, y_pred)\n",
        "mse = mean_squared_error(test_targets, y_pred)\n",
        "rmse = np.sqrt(mse)\n",
        "r2 = r2_score(test_targets, y_pred)\n",
        "\n",
        "# Menampilkan metrik evaluasi\n",
        "print(\"Mean Absolute Error (MAE):\", mae)\n",
        "print(\"Mean Squared Error (MSE):\", mse)\n",
        "print(\"Root Mean Squared Error (RMSE):\", rmse)\n",
        "print(\"R-squared (R²):\", r2)"
      ]
    },
    {
      "cell_type": "markdown",
      "metadata": {
        "id": "FNRDTdlL7SUu"
      },
      "source": [
        "\n",
        "### **Kesimpulan**\n",
        "**MAE** dan **RMSE** mengindikasikan bahwa model memiliki kesalahan prediksi rata-rata yang cukup signifikan, yaitu antara 8.42 hingga 10.31 satuan, dengan RMSE yang lebih tinggi dibandingkan MAE karena mempertimbangkan kesalahan kuadrat. Nilai R² sebesar 0.59 menunjukkan bahwa model hanya mampu menjelaskan 59% dari variasi data target, yang mengindikasikan performa yang cukup baik namun masih memerlukan peningkatan. Besarnya kesalahan prediksi yang terlihat dari MSE dan RMSE menunjukkan perlunya penyetelan parameter lebih lanjut atau eksplorasi fitur tambahan untuk meningkatkan kinerja model.\n"
      ]
    },
    {
      "cell_type": "markdown",
      "metadata": {
        "id": "4OAxkrID50sJ"
      },
      "source": [
        "### Tahapan 6: Membuat gridsearch parameter untuk menemukan parameter terbaik untuk SVM Regression\n"
      ]
    },
    {
      "cell_type": "code",
      "execution_count": 6,
      "metadata": {
        "colab": {
          "base_uri": "https://localhost:8080/"
        },
        "id": "4RSJTbFO52Ty",
        "outputId": "dbd805eb-ef77-4b7c-eeac-d86bbe804823"
      },
      "outputs": [
        {
          "output_type": "stream",
          "name": "stdout",
          "text": [
            "Fitting 5 folds for each of 24 candidates, totalling 120 fits\n",
            "[CV 1/5] END .C=0.1, gamma=scale, kernel=linear;, score=0.580 total time=   0.1s\n",
            "[CV 2/5] END .C=0.1, gamma=scale, kernel=linear;, score=0.585 total time=   0.0s\n",
            "[CV 3/5] END .C=0.1, gamma=scale, kernel=linear;, score=0.724 total time=   0.0s\n",
            "[CV 4/5] END .C=0.1, gamma=scale, kernel=linear;, score=0.655 total time=   0.0s\n",
            "[CV 5/5] END .C=0.1, gamma=scale, kernel=linear;, score=0.562 total time=   0.0s\n",
            "[CV 1/5] END ....C=0.1, gamma=scale, kernel=rbf;, score=0.111 total time=   0.0s\n",
            "[CV 2/5] END ....C=0.1, gamma=scale, kernel=rbf;, score=0.100 total time=   0.1s\n",
            "[CV 3/5] END ....C=0.1, gamma=scale, kernel=rbf;, score=0.119 total time=   0.0s\n",
            "[CV 4/5] END ....C=0.1, gamma=scale, kernel=rbf;, score=0.118 total time=   0.0s\n",
            "[CV 5/5] END ....C=0.1, gamma=scale, kernel=rbf;, score=0.102 total time=   0.0s\n",
            "[CV 1/5] END ...C=0.1, gamma=scale, kernel=poly;, score=0.163 total time=   0.0s\n",
            "[CV 2/5] END ...C=0.1, gamma=scale, kernel=poly;, score=0.166 total time=   0.0s\n",
            "[CV 3/5] END ...C=0.1, gamma=scale, kernel=poly;, score=0.192 total time=   0.0s\n",
            "[CV 4/5] END ...C=0.1, gamma=scale, kernel=poly;, score=0.149 total time=   0.0s\n",
            "[CV 5/5] END ...C=0.1, gamma=scale, kernel=poly;, score=0.147 total time=   0.0s\n",
            "[CV 1/5] END ..C=0.1, gamma=auto, kernel=linear;, score=0.580 total time=   0.0s\n",
            "[CV 2/5] END ..C=0.1, gamma=auto, kernel=linear;, score=0.585 total time=   0.0s\n",
            "[CV 3/5] END ..C=0.1, gamma=auto, kernel=linear;, score=0.724 total time=   0.0s\n",
            "[CV 4/5] END ..C=0.1, gamma=auto, kernel=linear;, score=0.655 total time=   0.0s\n",
            "[CV 5/5] END ..C=0.1, gamma=auto, kernel=linear;, score=0.562 total time=   0.0s\n",
            "[CV 1/5] END .....C=0.1, gamma=auto, kernel=rbf;, score=0.079 total time=   0.0s\n",
            "[CV 2/5] END .....C=0.1, gamma=auto, kernel=rbf;, score=0.059 total time=   0.0s\n",
            "[CV 3/5] END .....C=0.1, gamma=auto, kernel=rbf;, score=0.079 total time=   0.0s\n",
            "[CV 4/5] END .....C=0.1, gamma=auto, kernel=rbf;, score=0.086 total time=   0.0s\n",
            "[CV 5/5] END .....C=0.1, gamma=auto, kernel=rbf;, score=0.074 total time=   0.0s\n",
            "[CV 1/5] END ....C=0.1, gamma=auto, kernel=poly;, score=0.461 total time=   0.1s\n",
            "[CV 2/5] END ....C=0.1, gamma=auto, kernel=poly;, score=0.391 total time=   0.0s\n",
            "[CV 3/5] END ....C=0.1, gamma=auto, kernel=poly;, score=0.533 total time=   0.1s\n",
            "[CV 4/5] END ....C=0.1, gamma=auto, kernel=poly;, score=0.480 total time=   0.0s\n",
            "[CV 5/5] END ....C=0.1, gamma=auto, kernel=poly;, score=0.475 total time=   0.0s\n",
            "[CV 1/5] END ...C=1, gamma=scale, kernel=linear;, score=0.621 total time=   0.1s\n",
            "[CV 2/5] END ...C=1, gamma=scale, kernel=linear;, score=0.579 total time=   0.1s\n",
            "[CV 3/5] END ...C=1, gamma=scale, kernel=linear;, score=0.755 total time=   0.0s\n",
            "[CV 4/5] END ...C=1, gamma=scale, kernel=linear;, score=0.756 total time=   0.0s\n",
            "[CV 5/5] END ...C=1, gamma=scale, kernel=linear;, score=0.634 total time=   0.1s\n",
            "[CV 1/5] END ......C=1, gamma=scale, kernel=rbf;, score=0.489 total time=   0.0s\n",
            "[CV 2/5] END ......C=1, gamma=scale, kernel=rbf;, score=0.514 total time=   0.0s\n",
            "[CV 3/5] END ......C=1, gamma=scale, kernel=rbf;, score=0.586 total time=   0.0s\n",
            "[CV 4/5] END ......C=1, gamma=scale, kernel=rbf;, score=0.547 total time=   0.0s\n",
            "[CV 5/5] END ......C=1, gamma=scale, kernel=rbf;, score=0.471 total time=   0.1s\n",
            "[CV 1/5] END .....C=1, gamma=scale, kernel=poly;, score=0.376 total time=   0.1s\n",
            "[CV 2/5] END .....C=1, gamma=scale, kernel=poly;, score=0.347 total time=   0.1s\n",
            "[CV 3/5] END .....C=1, gamma=scale, kernel=poly;, score=0.454 total time=   0.1s\n",
            "[CV 4/5] END .....C=1, gamma=scale, kernel=poly;, score=0.396 total time=   0.1s\n",
            "[CV 5/5] END .....C=1, gamma=scale, kernel=poly;, score=0.390 total time=   0.1s\n",
            "[CV 1/5] END ....C=1, gamma=auto, kernel=linear;, score=0.621 total time=   0.1s\n",
            "[CV 2/5] END ....C=1, gamma=auto, kernel=linear;, score=0.579 total time=   0.1s\n",
            "[CV 3/5] END ....C=1, gamma=auto, kernel=linear;, score=0.755 total time=   0.1s\n",
            "[CV 4/5] END ....C=1, gamma=auto, kernel=linear;, score=0.756 total time=   0.1s\n",
            "[CV 5/5] END ....C=1, gamma=auto, kernel=linear;, score=0.634 total time=   0.1s\n",
            "[CV 1/5] END .......C=1, gamma=auto, kernel=rbf;, score=0.407 total time=   0.1s\n",
            "[CV 2/5] END .......C=1, gamma=auto, kernel=rbf;, score=0.427 total time=   0.1s\n",
            "[CV 3/5] END .......C=1, gamma=auto, kernel=rbf;, score=0.484 total time=   0.1s\n",
            "[CV 4/5] END .......C=1, gamma=auto, kernel=rbf;, score=0.471 total time=   0.1s\n",
            "[CV 5/5] END .......C=1, gamma=auto, kernel=rbf;, score=0.430 total time=   0.1s\n",
            "[CV 1/5] END ......C=1, gamma=auto, kernel=poly;, score=0.566 total time=   0.2s\n",
            "[CV 2/5] END ......C=1, gamma=auto, kernel=poly;, score=0.549 total time=   0.1s\n",
            "[CV 3/5] END ......C=1, gamma=auto, kernel=poly;, score=0.695 total time=   0.1s\n",
            "[CV 4/5] END ......C=1, gamma=auto, kernel=poly;, score=0.614 total time=   0.2s\n",
            "[CV 5/5] END ......C=1, gamma=auto, kernel=poly;, score=0.596 total time=   0.1s\n",
            "[CV 1/5] END ..C=10, gamma=scale, kernel=linear;, score=0.619 total time=   0.3s\n",
            "[CV 2/5] END ..C=10, gamma=scale, kernel=linear;, score=0.540 total time=   0.2s\n",
            "[CV 3/5] END ..C=10, gamma=scale, kernel=linear;, score=0.736 total time=   0.2s\n",
            "[CV 4/5] END ..C=10, gamma=scale, kernel=linear;, score=0.734 total time=   0.2s\n",
            "[CV 5/5] END ..C=10, gamma=scale, kernel=linear;, score=0.637 total time=   0.2s\n",
            "[CV 1/5] END .....C=10, gamma=scale, kernel=rbf;, score=0.726 total time=   0.1s\n",
            "[CV 2/5] END .....C=10, gamma=scale, kernel=rbf;, score=0.723 total time=   0.1s\n",
            "[CV 3/5] END .....C=10, gamma=scale, kernel=rbf;, score=0.812 total time=   0.1s\n",
            "[CV 4/5] END .....C=10, gamma=scale, kernel=rbf;, score=0.779 total time=   0.1s\n",
            "[CV 5/5] END .....C=10, gamma=scale, kernel=rbf;, score=0.692 total time=   0.1s\n",
            "[CV 1/5] END ....C=10, gamma=scale, kernel=poly;, score=0.538 total time=   0.1s\n",
            "[CV 2/5] END ....C=10, gamma=scale, kernel=poly;, score=0.562 total time=   0.1s\n",
            "[CV 3/5] END ....C=10, gamma=scale, kernel=poly;, score=0.635 total time=   0.1s\n",
            "[CV 4/5] END ....C=10, gamma=scale, kernel=poly;, score=0.581 total time=   0.1s\n",
            "[CV 5/5] END ....C=10, gamma=scale, kernel=poly;, score=0.578 total time=   0.1s\n",
            "[CV 1/5] END ...C=10, gamma=auto, kernel=linear;, score=0.619 total time=   0.3s\n",
            "[CV 2/5] END ...C=10, gamma=auto, kernel=linear;, score=0.540 total time=   0.3s\n",
            "[CV 3/5] END ...C=10, gamma=auto, kernel=linear;, score=0.736 total time=   0.2s\n",
            "[CV 4/5] END ...C=10, gamma=auto, kernel=linear;, score=0.734 total time=   0.2s\n",
            "[CV 5/5] END ...C=10, gamma=auto, kernel=linear;, score=0.637 total time=   0.2s\n",
            "[CV 1/5] END ......C=10, gamma=auto, kernel=rbf;, score=0.688 total time=   0.1s\n",
            "[CV 2/5] END ......C=10, gamma=auto, kernel=rbf;, score=0.696 total time=   0.1s\n",
            "[CV 3/5] END ......C=10, gamma=auto, kernel=rbf;, score=0.766 total time=   0.1s\n",
            "[CV 4/5] END ......C=10, gamma=auto, kernel=rbf;, score=0.758 total time=   0.1s\n",
            "[CV 5/5] END ......C=10, gamma=auto, kernel=rbf;, score=0.680 total time=   0.1s\n",
            "[CV 1/5] END .....C=10, gamma=auto, kernel=poly;, score=0.676 total time=   0.6s\n",
            "[CV 2/5] END .....C=10, gamma=auto, kernel=poly;, score=0.188 total time=   0.7s\n",
            "[CV 3/5] END .....C=10, gamma=auto, kernel=poly;, score=0.834 total time=   0.7s\n",
            "[CV 4/5] END .....C=10, gamma=auto, kernel=poly;, score=0.671 total time=   0.9s\n",
            "[CV 5/5] END .....C=10, gamma=auto, kernel=poly;, score=0.692 total time=   0.7s\n",
            "[CV 1/5] END .C=100, gamma=scale, kernel=linear;, score=0.620 total time=   0.8s\n",
            "[CV 2/5] END .C=100, gamma=scale, kernel=linear;, score=0.526 total time=   0.8s\n",
            "[CV 3/5] END .C=100, gamma=scale, kernel=linear;, score=0.733 total time=   0.8s\n",
            "[CV 4/5] END .C=100, gamma=scale, kernel=linear;, score=0.724 total time=   0.8s\n",
            "[CV 5/5] END .C=100, gamma=scale, kernel=linear;, score=0.630 total time=   0.7s\n",
            "[CV 1/5] END ....C=100, gamma=scale, kernel=rbf;, score=0.808 total time=   0.1s\n",
            "[CV 2/5] END ....C=100, gamma=scale, kernel=rbf;, score=0.782 total time=   0.1s\n",
            "[CV 3/5] END ....C=100, gamma=scale, kernel=rbf;, score=0.866 total time=   0.1s\n",
            "[CV 4/5] END ....C=100, gamma=scale, kernel=rbf;, score=0.839 total time=   0.1s\n",
            "[CV 5/5] END ....C=100, gamma=scale, kernel=rbf;, score=0.800 total time=   0.1s\n",
            "[CV 1/5] END ...C=100, gamma=scale, kernel=poly;, score=0.632 total time=   0.2s\n",
            "[CV 2/5] END ...C=100, gamma=scale, kernel=poly;, score=0.365 total time=   0.2s\n",
            "[CV 3/5] END ...C=100, gamma=scale, kernel=poly;, score=0.796 total time=   0.2s\n",
            "[CV 4/5] END ...C=100, gamma=scale, kernel=poly;, score=0.654 total time=   0.2s\n",
            "[CV 5/5] END ...C=100, gamma=scale, kernel=poly;, score=0.656 total time=   0.2s\n",
            "[CV 1/5] END ..C=100, gamma=auto, kernel=linear;, score=0.620 total time=   0.9s\n",
            "[CV 2/5] END ..C=100, gamma=auto, kernel=linear;, score=0.526 total time=   1.6s\n",
            "[CV 3/5] END ..C=100, gamma=auto, kernel=linear;, score=0.733 total time=   1.6s\n",
            "[CV 4/5] END ..C=100, gamma=auto, kernel=linear;, score=0.724 total time=   1.5s\n",
            "[CV 5/5] END ..C=100, gamma=auto, kernel=linear;, score=0.630 total time=   1.0s\n",
            "[CV 1/5] END .....C=100, gamma=auto, kernel=rbf;, score=0.747 total time=   0.2s\n",
            "[CV 2/5] END .....C=100, gamma=auto, kernel=rbf;, score=0.732 total time=   0.2s\n",
            "[CV 3/5] END .....C=100, gamma=auto, kernel=rbf;, score=0.806 total time=   0.2s\n",
            "[CV 4/5] END .....C=100, gamma=auto, kernel=rbf;, score=0.780 total time=   0.2s\n",
            "[CV 5/5] END .....C=100, gamma=auto, kernel=rbf;, score=0.691 total time=   0.1s\n",
            "[CV 1/5] END ....C=100, gamma=auto, kernel=poly;, score=0.699 total time=  10.4s\n",
            "[CV 2/5] END ....C=100, gamma=auto, kernel=poly;, score=0.601 total time=  13.1s\n",
            "[CV 3/5] END ....C=100, gamma=auto, kernel=poly;, score=0.809 total time=  15.9s\n",
            "[CV 4/5] END ....C=100, gamma=auto, kernel=poly;, score=0.302 total time=  15.6s\n",
            "[CV 5/5] END ....C=100, gamma=auto, kernel=poly;, score=0.676 total time=  12.9s\n",
            "Best Parameters: {'C': 100, 'gamma': 'scale', 'kernel': 'rbf'}\n"
          ]
        }
      ],
      "source": [
        "from sklearn.model_selection import GridSearchCV\n",
        "\n",
        "# Menentukan parameter grid\n",
        "param_grid = {\n",
        "    'C': [0.1, 1, 10, 100],\n",
        "    'kernel': ['linear', 'rbf', 'poly'],\n",
        "    'gamma': ['scale', 'auto']\n",
        "}\n",
        "\n",
        "# GridSearchCV untuk optimasi\n",
        "parameter_search = GridSearchCV(SVR(), param_grid, cv=5, scoring='r2', verbose=3)\n",
        "\n",
        "# Melatih grid search\n",
        "parameter_search.fit(X_train, y_train)\n",
        "\n",
        "# Menampilkan parameter terbaik\n",
        "print(\"Best Parameters:\", parameter_search.best_params_)"
      ]
    },
    {
      "cell_type": "markdown",
      "metadata": {
        "id": "bxLkNeo27g7q"
      },
      "source": [
        "### **Kesimpulan**\n",
        "Kombinasi parameter C=**100**, gamma='scale', dan kernel='rbf' memungkinkan model SVM Regression mencapai performa optimal pada dataset MaterialStrength. Parameter C=**100** memprioritaskan kesalahan rendah pada data pelatihan untuk meningkatkan akurasi, meskipun berpotensi menyebabkan overfitting. Parameter gamma='scale' menjaga stabilitas dan adaptasi kernel RBF secara otomatis, sementara kernel='rbf' memungkinkan model menangkap pola non-linear yang kompleks dalam data. Jika hasil evaluasi menunjukkan performa yang baik, seperti MAE dan RMSE yang rendah serta R² yang tinggi, maka kombinasi parameter ini dapat dianggap cocok untuk data tersebut. Namun, penting untuk menguji generalisasi model pada data lain guna memastikan tidak terjadi overfitting.\n",
        "\n",
        "\n",
        "\n",
        "\n",
        "\n",
        "\n"
      ]
    },
    {
      "cell_type": "markdown",
      "metadata": {
        "id": "4jgvYCYL54oz"
      },
      "source": [
        "### Tahapan 7: Mengevaluasi hasil menggunakan parameter terbaik dan visualisasinya\n"
      ]
    },
    {
      "cell_type": "code",
      "execution_count": 7,
      "metadata": {
        "colab": {
          "base_uri": "https://localhost:8080/",
          "height": 633
        },
        "id": "4h-nf5O256fE",
        "outputId": "e8baf911-aedd-4dd8-9c5a-4ecc080d2357"
      },
      "outputs": [
        {
          "output_type": "stream",
          "name": "stdout",
          "text": [
            "Best Model - Mean Absolute Error (MAE): 4.6780226208381865\n",
            "Best Model - Mean Squared Error (MSE): 40.74076312699596\n",
            "Best Model - Root Mean Squared Error (RMSE): 6.382849138668089\n",
            "Best Model - R-squared (R²): 0.8418920593262077\n"
          ]
        },
        {
          "output_type": "display_data",
          "data": {
            "text/plain": [
              "<Figure size 800x600 with 1 Axes>"
            ],
            "image/png": "[encoded data removed]"
          },
          "metadata": {}
        }
      ],
      "source": [
        "import matplotlib.pyplot as plt\n",
        "\n",
        "# Melakukan prediksi dengan model terbaik\n",
        "best_model = parameter_search.best_estimator_\n",
        "predicted_values = best_model.predict(test_features)\n",
        "\n",
        "# Evaluasi model terbaik\n",
        "mean_absolute_error_best = mean_absolute_error(test_targets, predicted_values)\n",
        "mean_squared_error_best = mean_squared_error(test_targets, predicted_values)\n",
        "rmean_squared_error_best = np.sqrt(mean_squared_error_best)\n",
        "r2_score_best = r2_score(test_targets, predicted_values)\n",
        "\n",
        "# Menampilkan metrik evaluasi terbaik\n",
        "print(\"Best Model - Mean Absolute Error (MAE):\", mean_absolute_error_best)\n",
        "print(\"Best Model - Mean Squared Error (MSE):\", mean_squared_error_best)\n",
        "print(\"Best Model - Root Mean Squared Error (RMSE):\", rmean_squared_error_best)\n",
        "print(\"Best Model - R-squared (R²):\", r2_score_best)\n",
        "\n",
        "# Visualisasi hasil prediksi vs aktual\n",
        "plt.figure(figsize=(8, 6))\n",
        "plt.scatter(test_targets, predicted_values, alpha=0.6)\n",
        "plt.plot([test_targets.min(), test_targets.max()], [test_targets.min(), test_targets.max()], 'k--', lw=2)\n",
        "plt.xlabel(\"Actual\")\n",
        "plt.ylabel(\"Predicted\")\n",
        "plt.title(\"Actual vs Predicted Values (SVM Regression)\")\n",
        "plt.show()"
      ]
    },
    {
      "cell_type": "markdown",
      "metadata": {
        "id": "8kiXEmgj7pcG"
      },
      "source": [
        "### **Kesimpulan**\n",
        "Model **SVM Regression** menunjukkan performa yang sangat baik, dengan **MAE**, **MSE**, dan **RMSE** yang rendah, mengindikasikan bahwa model berhasil memprediksi nilai target dengan kesalahan yang kecil. Nilai R² sebesar 0.84 menunjukkan bahwa model mampu menjelaskan 84% variasi dalam data target, yang merupakan indikasi performa yang sangat baik. Visualisasi antara nilai aktual dan prediksi juga mengonfirmasi bahwa hasil prediksi model sudah mendekati nilai aktual dengan distribusi yang baik. Peningkatan performa ini dicapai melalui pemilihan parameter terbaik, yaitu **C=100**, gamma='scale', dan kernel='rbf', yang memungkinkan model lebih optimal dalam menangkap pola data. Dengan kombinasi parameter ini, model SVM Regression dapat dianggap cukup baik dan layak digunakan untuk memprediksi target pada dataset ini."
      ]
    }
  ],
  "metadata": {
    "colab": {
      "provenance": []
    },
    "kernelspec": {
      "display_name": "Python 3",
      "name": "python3"
    },
    "language_info": {
      "name": "python"
    }
  },
  "nbformat": 4,
  "nbformat_minor": 0
}