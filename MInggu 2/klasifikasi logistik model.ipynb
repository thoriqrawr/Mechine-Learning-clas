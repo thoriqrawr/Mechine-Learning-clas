{
 "cells": [
  {
   "cell_type": "code",
   "execution_count": 30,
   "metadata": {},
   "outputs": [],
   "source": [
    "#Importing necessary libraries\n",
    "import pandas as pd  # Untuk manipulasi data dan analisis\n",
    "import numpy as np  # Untuk operasi matematika dasar\n",
    "from sklearn.model_selection import train_test_split  # Untuk membagi dataset menjadi set pelatihan dan pengujian\n",
    "from sklearn.linear_model import LinearRegression  # Untuk model regresi linear\n",
    "from sklearn.preprocessing import PolynomialFeatures  # Untuk menambahkan basis fungsi (polynomial)\n",
    "from sklearn.metrics import mean_absolute_error, mean_squared_error, r2_score  # Untuk evaluasi model\n",
    "import matplotlib.pyplot as plt  # Untuk visualisasi grafik\n"
   ]
  },
  {
   "cell_type": "code",
   "execution_count": 31,
   "metadata": {},
   "outputs": [],
   "source": [
    "# Load the dataset\n",
    "file_path = '/mnt/data/CitarumWater.csv'  # Path to the uploaded file\n",
    "data = pd.read_csv('/Users/muhammadthoriqzam/Downloads/teachingMLDL-main/01. Machine Learning/02. Week 2/Dataset/CitarumWater.csv')\n"
   ]
  },
  {
   "cell_type": "code",
   "execution_count": 32,
   "metadata": {},
   "outputs": [
    {
     "name": "stdout",
     "output_type": "stream",
     "text": [
      "   No NamaSungai             TitikPantau       Waktu    pH     Temp   TSS  \\\n",
      "0   1    Citarum             Wangisagara  18/04/2018  7.57  25.55°C  11.0   \n",
      "1   2    Citarum                   Koyod  18/04/2018  7.69  25.55°C  13.0   \n",
      "2   3    Citarum   Setelah IPAL Cisirung  18/04/2018  7.39  25.55°C  15.0   \n",
      "3   4    Citarum                 Nanjung  18/04/2018  7.49  25.55°C  17.0   \n",
      "4   5    Citarum  Outlet Waduk Jatiluhur  18/04/2018  7.17  25.55°C   6.0   \n",
      "\n",
      "     DO   BOD    COD  Nitrat  FecalColiform  Fosfat O2    IP  Class  \n",
      "0  6.11  3.30   6.10    1.08        17000.0   0.043  -  5.12      3  \n",
      "1  6.20  5.31  12.50    1.85        28000.0   0.011  -  5.91      3  \n",
      "2  3.61  7.40  23.50    1.25        90000.0   0.230  -  7.76      3  \n",
      "3  3.17  8.13  27.50    1.21       300000.0   0.057  -  9.61      3  \n",
      "4  6.82  2.89   5.44    1.04         3000.0   0.110  -  2.44      2  \n"
     ]
    }
   ],
   "source": [
    "# Menampilkan beberapa baris pertama dari dataset untuk memahami strukturnya\n",
    "print(data.head())\n"
   ]
  },
  {
   "cell_type": "code",
   "execution_count": 33,
   "metadata": {},
   "outputs": [],
   "source": [
    "# Hapus kolom yang tidak relevan untuk pemodelan\n",
    "data_cleaned = data.drop(columns=['No', 'NamaSungai', 'TitikPantau', 'Waktu', 'IP', 'O2'])\n"
   ]
  },
  {
   "cell_type": "code",
   "execution_count": 34,
   "metadata": {},
   "outputs": [],
   "source": [
    "# Mengonversi kolom 'Temp' ke numerik dengan menghapus '°C'\n",
    "data_cleaned['Temp'] = data_cleaned['Temp'].str.replace('°C', '').astype(float)\n"
   ]
  },
  {
   "cell_type": "code",
   "execution_count": 35,
   "metadata": {},
   "outputs": [],
   "source": [
    "# Menangani nilai yang hilang dengan mengisi rata-rata kolom\n",
    "data_cleaned.fillna(data_cleaned.mean(), inplace=True)\n"
   ]
  },
  {
   "cell_type": "code",
   "execution_count": 36,
   "metadata": {},
   "outputs": [],
   "source": [
    "# Memisahkan fitur (X) dan target (y)\n",
    "X = data_cleaned.drop(columns=['Class'])  # Fitur\n",
    "y = data_cleaned['Class']  # Target\n"
   ]
  },
  {
   "cell_type": "code",
   "execution_count": 37,
   "metadata": {},
   "outputs": [],
   "source": [
    "# Membagi data menjadi set pelatihan (80%) dan pengujian (20%)\n",
    "X_train, X_test, y_train, y_test = train_test_split(X, y, test_size=0.2, random_state=42)\n"
   ]
  },
  {
   "cell_type": "code",
   "execution_count": 38,
   "metadata": {},
   "outputs": [
    {
     "data": {
      "text/plain": [
       "LinearRegression()"
      ]
     },
     "execution_count": 38,
     "metadata": {},
     "output_type": "execute_result"
    }
   ],
   "source": [
    "# Melatih model regresi linear sederhana (vanilla)\n",
    "vanilla_model = LinearRegression()\n",
    "vanilla_model.fit(X_train, y_train)\n"
   ]
  },
  {
   "cell_type": "code",
   "execution_count": 39,
   "metadata": {},
   "outputs": [],
   "source": [
    "# Prediksi menggunakan model vanilla\n",
    "y_pred_vanilla = vanilla_model.predict(X_test)\n"
   ]
  },
  {
   "cell_type": "code",
   "execution_count": 40,
   "metadata": {},
   "outputs": [],
   "source": [
    "# Evaluasi regresi linear sederhana\n",
    "mae_vanilla = mean_absolute_error(y_test, y_pred_vanilla)\n",
    "mse_vanilla = mean_squared_error(y_test, y_pred_vanilla)\n",
    "rmse_vanilla = np.sqrt(mse_vanilla)\n",
    "r2_vanilla = r2_score(y_test, y_pred_vanilla)\n"
   ]
  },
  {
   "cell_type": "code",
   "execution_count": 41,
   "metadata": {},
   "outputs": [
    {
     "name": "stdout",
     "output_type": "stream",
     "text": [
      "Vanilla Linear Regression - MAE: 0.3662565110206705, MSE: 0.18379974909624336, RMSE: 0.42871872958414514, R²: 0.3944074901937261\n"
     ]
    }
   ],
   "source": [
    "# Cetak metrik evaluasi untuk regresi linear sederhana\n",
    "print(f\"Vanilla Linear Regression - MAE: {mae_vanilla}, MSE: {mse_vanilla}, RMSE: {rmse_vanilla}, R²: {r2_vanilla}\")\n"
   ]
  },
  {
   "cell_type": "code",
   "execution_count": 42,
   "metadata": {},
   "outputs": [],
   "source": [
    "# Melatih model regresi dengan basis fungsi (polynomial degree=2)\n",
    "poly = PolynomialFeatures(degree=2)\n",
    "X_train_poly = poly.fit_transform(X_train)\n",
    "X_test_poly = poly.transform(X_test)\n"
   ]
  },
  {
   "cell_type": "code",
   "execution_count": 43,
   "metadata": {},
   "outputs": [
    {
     "data": {
      "text/plain": [
       "LinearRegression()"
      ]
     },
     "execution_count": 43,
     "metadata": {},
     "output_type": "execute_result"
    }
   ],
   "source": [
    "# Melatih model regresi polynomial\n",
    "poly_model = LinearRegression()\n",
    "poly_model.fit(X_train_poly, y_train)\n"
   ]
  },
  {
   "cell_type": "code",
   "execution_count": 44,
   "metadata": {},
   "outputs": [],
   "source": [
    "# Prediksi menggunakan model polynomial\n",
    "y_pred_poly = poly_model.predict(X_test_poly)\n",
    "\n"
   ]
  },
  {
   "cell_type": "code",
   "execution_count": 45,
   "metadata": {},
   "outputs": [],
   "source": [
    "# Evaluasi regresi polynomial\n",
    "mae_poly = mean_absolute_error(y_test, y_pred_poly)\n",
    "mse_poly = mean_squared_error(y_test, y_pred_poly)\n",
    "rmse_poly = np.sqrt(mse_poly)\n",
    "r2_poly = r2_score(y_test, y_pred_poly)\n"
   ]
  },
  {
   "cell_type": "code",
   "execution_count": 46,
   "metadata": {},
   "outputs": [
    {
     "name": "stdout",
     "output_type": "stream",
     "text": [
      "Polynomial Regression - MAE: 0.27873683595251697, MSE: 0.22524305737697042, RMSE: 0.47459778484203907, R²: 0.2578580269882097\n"
     ]
    }
   ],
   "source": [
    "# Cetak metrik evaluasi untuk regresi polynomial\n",
    "print(f\"Polynomial Regression - MAE: {mae_poly}, MSE: {mse_poly}, RMSE: {rmse_poly}, R²: {r2_poly}\")\n"
   ]
  },
  {
   "cell_type": "code",
   "execution_count": 47,
   "metadata": {},
   "outputs": [
    {
     "data": {
      "text/plain": [
       "<Figure size 720x432 with 0 Axes>"
      ]
     },
     "execution_count": 47,
     "metadata": {},
     "output_type": "execute_result"
    },
    {
     "data": {
      "text/plain": [
       "<Figure size 720x432 with 0 Axes>"
      ]
     },
     "metadata": {},
     "output_type": "display_data"
    }
   ],
   "source": [
    "# Visualisasi perbandingan antara model vanilla dan polynomial\n",
    "plt.figure(figsize=(10, 6))\n"
   ]
  },
  {
   "cell_type": "code",
   "execution_count": 48,
   "metadata": {},
   "outputs": [
    {
     "data": {
      "text/plain": [
       "Text(0, 0.5, 'Predicted')"
      ]
     },
     "execution_count": 48,
     "metadata": {},
     "output_type": "execute_result"
    },
    {
     "data": {
      "image/png": "[encoded data removed]",
      "text/plain": [
       "<Figure size 432x288 with 1 Axes>"
      ]
     },
     "metadata": {
      "needs_background": "light"
     },
     "output_type": "display_data"
    }
   ],
   "source": [
    "# Plotting actual vs predicted untuk Vanilla Linear Regression\n",
    "plt.subplot(1, 2, 1)\n",
    "plt.scatter(y_test, y_pred_vanilla, color='blue')\n",
    "plt.plot([min(y_test), max(y_test)], [min(y_test), max(y_test)], color='red', linewidth=2)\n",
    "plt.title('Vanilla Linear Regression')\n",
    "plt.xlabel('Actual')\n",
    "plt.ylabel('Predicted')\n"
   ]
  },
  {
   "cell_type": "markdown",
   "metadata": {},
   "source": [
    "# Plotting actual vs predicted untuk Polynomial Regression\n",
    "plt.subplot(1, 2, 2)\n",
    "plt.scatter(y_test, y_pred_poly, color='green')\n",
    "plt.plot([min(y_test), max(y_test)], [min(y_test), max(y_test)], color='red', linewidth=2)\n",
    "plt.title('Polynomial Regression')\n",
    "plt.xlabel('Actual')\n",
    "plt.ylabel('Predicted')\n",
    "\n",
    "plt.tight_layout()\n",
    "plt.show()"
   ]
  }
 ],
 "metadata": {
  "kernelspec": {
   "display_name": "base",
   "language": "python",
   "name": "python3"
  },
  "language_info": {
   "codemirror_mode": {
    "name": "ipython",
    "version": 3
   },
   "file_extension": ".py",
   "mimetype": "text/x-python",
   "name": "python",
   "nbconvert_exporter": "python",
   "pygments_lexer": "ipython3",
   "version": "3.9.12"
  }
 },
 "nbformat": 4,
 "nbformat_minor": 2
}
